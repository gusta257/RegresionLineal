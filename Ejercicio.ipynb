{
 "cells": [
  {
   "cell_type": "markdown",
   "metadata": {},
   "source": [
    "#                                   Laboratorio 1 "
   ]
  },
  {
   "cell_type": "markdown",
   "metadata": {},
   "source": [
    "### Librerias a usar"
   ]
  },
  {
   "cell_type": "code",
   "execution_count": 1,
   "metadata": {},
   "outputs": [],
   "source": [
    "import numpy as np\n",
    "import pandas as pd\n",
    "from matplotlib import pyplot as plt\n",
    "import random"
   ]
  },
  {
   "cell_type": "code",
   "execution_count": 2,
   "metadata": {},
   "outputs": [
    {
     "data": {
      "text/html": [
       "<div>\n",
       "<style scoped>\n",
       "    .dataframe tbody tr th:only-of-type {\n",
       "        vertical-align: middle;\n",
       "    }\n",
       "\n",
       "    .dataframe tbody tr th {\n",
       "        vertical-align: top;\n",
       "    }\n",
       "\n",
       "    .dataframe thead th {\n",
       "        text-align: right;\n",
       "    }\n",
       "</style>\n",
       "<table border=\"1\" class=\"dataframe\">\n",
       "  <thead>\n",
       "    <tr style=\"text-align: right;\">\n",
       "      <th></th>\n",
       "      <th>Serial No.</th>\n",
       "      <th>GRE Score</th>\n",
       "      <th>TOEFL Score</th>\n",
       "      <th>University Rating</th>\n",
       "      <th>SOP</th>\n",
       "      <th>LOR</th>\n",
       "      <th>CGPA</th>\n",
       "      <th>Research</th>\n",
       "      <th>Chance of Admit</th>\n",
       "    </tr>\n",
       "  </thead>\n",
       "  <tbody>\n",
       "    <tr>\n",
       "      <th>0</th>\n",
       "      <td>1</td>\n",
       "      <td>337</td>\n",
       "      <td>118</td>\n",
       "      <td>4</td>\n",
       "      <td>4.5</td>\n",
       "      <td>4.5</td>\n",
       "      <td>9.65</td>\n",
       "      <td>1</td>\n",
       "      <td>0.92</td>\n",
       "    </tr>\n",
       "    <tr>\n",
       "      <th>1</th>\n",
       "      <td>2</td>\n",
       "      <td>324</td>\n",
       "      <td>107</td>\n",
       "      <td>4</td>\n",
       "      <td>4.0</td>\n",
       "      <td>4.5</td>\n",
       "      <td>8.87</td>\n",
       "      <td>1</td>\n",
       "      <td>0.76</td>\n",
       "    </tr>\n",
       "    <tr>\n",
       "      <th>2</th>\n",
       "      <td>3</td>\n",
       "      <td>316</td>\n",
       "      <td>104</td>\n",
       "      <td>3</td>\n",
       "      <td>3.0</td>\n",
       "      <td>3.5</td>\n",
       "      <td>8.00</td>\n",
       "      <td>1</td>\n",
       "      <td>0.72</td>\n",
       "    </tr>\n",
       "    <tr>\n",
       "      <th>3</th>\n",
       "      <td>4</td>\n",
       "      <td>322</td>\n",
       "      <td>110</td>\n",
       "      <td>3</td>\n",
       "      <td>3.5</td>\n",
       "      <td>2.5</td>\n",
       "      <td>8.67</td>\n",
       "      <td>1</td>\n",
       "      <td>0.80</td>\n",
       "    </tr>\n",
       "    <tr>\n",
       "      <th>4</th>\n",
       "      <td>5</td>\n",
       "      <td>314</td>\n",
       "      <td>103</td>\n",
       "      <td>2</td>\n",
       "      <td>2.0</td>\n",
       "      <td>3.0</td>\n",
       "      <td>8.21</td>\n",
       "      <td>0</td>\n",
       "      <td>0.65</td>\n",
       "    </tr>\n",
       "  </tbody>\n",
       "</table>\n",
       "</div>"
      ],
      "text/plain": [
       "   Serial No.  GRE Score  TOEFL Score  University Rating  SOP  LOR   CGPA  \\\n",
       "0           1        337          118                  4  4.5   4.5  9.65   \n",
       "1           2        324          107                  4  4.0   4.5  8.87   \n",
       "2           3        316          104                  3  3.0   3.5  8.00   \n",
       "3           4        322          110                  3  3.5   2.5  8.67   \n",
       "4           5        314          103                  2  2.0   3.0  8.21   \n",
       "\n",
       "   Research  Chance of Admit   \n",
       "0         1              0.92  \n",
       "1         1              0.76  \n",
       "2         1              0.72  \n",
       "3         1              0.80  \n",
       "4         0              0.65  "
      ]
     },
     "execution_count": 2,
     "metadata": {},
     "output_type": "execute_result"
    }
   ],
   "source": [
    "data = pd.read_csv(\"Admission_Predict.csv\") \n",
    "data.head()"
   ]
  },
  {
   "cell_type": "code",
   "execution_count": 3,
   "metadata": {},
   "outputs": [],
   "source": [
    "gre = data.iloc[:len(data), 1].values\n",
    "toefl = data.iloc[:len(data), 2].values\n",
    "universityR = data.iloc[:len(data), 3].values\n",
    "sop = data.iloc[:len(data), 4].values\n",
    "lor = data.iloc[:len(data), 5].values\n",
    "cgpa = data.iloc[:len(data), 6].values\n",
    "admit = data.iloc[:len(data), 8].values"
   ]
  },
  {
   "cell_type": "markdown",
   "metadata": {},
   "source": [
    "## LOR vs Admit "
   ]
  },
  {
   "cell_type": "code",
   "execution_count": 4,
   "metadata": {},
   "outputs": [
    {
     "data": {
      "text/plain": [
       "<matplotlib.collections.PathCollection at 0x7f999c5c4160>"
      ]
     },
     "execution_count": 4,
     "metadata": {},
     "output_type": "execute_result"
    },
    {
     "data": {
      "image/png": "[encoded data removed]",
      "text/plain": [
       "<Figure size 432x288 with 1 Axes>"
      ]
     },
     "metadata": {
      "needs_background": "light"
     },
     "output_type": "display_data"
    }
   ],
   "source": [
    "plt.scatter(lor,admit)"
   ]
  },
  {
   "cell_type": "markdown",
   "metadata": {},
   "source": [
    "## University Rating vs Admit "
   ]
  },
  {
   "cell_type": "code",
   "execution_count": 5,
   "metadata": {},
   "outputs": [
    {
     "data": {
      "text/plain": [
       "<matplotlib.collections.PathCollection at 0x7f999bf0b860>"
      ]
     },
     "execution_count": 5,
     "metadata": {},
     "output_type": "execute_result"
    },
    {
     "data": {
      "image/png": "[encoded data removed]",
      "text/plain": [
       "<Figure size 432x288 with 1 Axes>"
      ]
     },
     "metadata": {
      "needs_background": "light"
     },
     "output_type": "display_data"
    }
   ],
   "source": [
    "plt.scatter(universityR,admit)"
   ]
  },
  {
   "cell_type": "markdown",
   "metadata": {},
   "source": [
    "## SOP vs Admit "
   ]
  },
  {
   "cell_type": "code",
   "execution_count": 6,
   "metadata": {},
   "outputs": [
    {
     "data": {
      "text/plain": [
       "<matplotlib.collections.PathCollection at 0x7f999bec5240>"
      ]
     },
     "execution_count": 6,
     "metadata": {},
     "output_type": "execute_result"
    },
    {
     "data": {
      "image/png": "[encoded data removed]",
      "text/plain": [
       "<Figure size 432x288 with 1 Axes>"
      ]
     },
     "metadata": {
      "needs_background": "light"
     },
     "output_type": "display_data"
    }
   ],
   "source": [
    "plt.scatter(sop,admit)"
   ]
  },
  {
   "cell_type": "markdown",
   "metadata": {},
   "source": [
    "## GRE Score vs Admit "
   ]
  },
  {
   "cell_type": "code",
   "execution_count": 7,
   "metadata": {},
   "outputs": [
    {
     "data": {
      "text/plain": [
       "<matplotlib.collections.PathCollection at 0x7f999be5dcc0>"
      ]
     },
     "execution_count": 7,
     "metadata": {},
     "output_type": "execute_result"
    },
    {
     "data": {
      "image/png": "[encoded data removed]",
      "text/plain": [
       "<Figure size 432x288 with 1 Axes>"
      ]
     },
     "metadata": {
      "needs_background": "light"
     },
     "output_type": "display_data"
    }
   ],
   "source": [
    "plt.scatter(gre,admit)"
   ]
  },
  {
   "cell_type": "markdown",
   "metadata": {},
   "source": [
    "## CGPA vs Admit "
   ]
  },
  {
   "cell_type": "code",
   "execution_count": 8,
   "metadata": {},
   "outputs": [
    {
     "data": {
      "text/plain": [
       "<matplotlib.collections.PathCollection at 0x7f999bdbeac8>"
      ]
     },
     "execution_count": 8,
     "metadata": {},
     "output_type": "execute_result"
    },
    {
     "data": {
      "image/png": "[encoded data removed]",
      "text/plain": [
       "<Figure size 432x288 with 1 Axes>"
      ]
     },
     "metadata": {
      "needs_background": "light"
     },
     "output_type": "display_data"
    }
   ],
   "source": [
    "plt.scatter(cgpa,admit)"
   ]
  },
  {
   "cell_type": "markdown",
   "metadata": {},
   "source": [
    "## Toefl vs Admit "
   ]
  },
  {
   "cell_type": "code",
   "execution_count": 9,
   "metadata": {
    "scrolled": true
   },
   "outputs": [
    {
     "data": {
      "text/plain": [
       "<matplotlib.collections.PathCollection at 0x7f999bd25e80>"
      ]
     },
     "execution_count": 9,
     "metadata": {},
     "output_type": "execute_result"
    },
    {
     "data": {
      "image/png": "[encoded data removed]",
      "text/plain": [
       "<Figure size 432x288 with 1 Axes>"
      ]
     },
     "metadata": {
      "needs_background": "light"
     },
     "output_type": "display_data"
    }
   ],
   "source": [
    "plt.scatter(toefl,admit)"
   ]
  },
  {
   "cell_type": "markdown",
   "metadata": {},
   "source": [
    "Como se puede observar en los diagramas de dispersiòn solo hay 3 variables que tienen relacion con la variable de Admit. Estas son Gre Score, TOEFL Score y CGPA, por lo que seràn seleccionadas para hacer la transformacion de datos. "
   ]
  },
  {
   "cell_type": "code",
   "execution_count": 10,
   "metadata": {},
   "outputs": [],
   "source": [
    "datos =  pd.read_csv(\"Admission_Predict.csv\", usecols=['GRE Score','TOEFL Score', 'CGPA', 'Chance of Admit ']) \n",
    "dataI = datos.iloc[:len(data), 0:4].values"
   ]
  },
  {
   "cell_type": "markdown",
   "metadata": {},
   "source": [
    "# Funciones"
   ]
  },
  {
   "cell_type": "markdown",
   "metadata": {},
   "source": [
    "## Descenso del gradiente"
   ]
  },
  {
   "cell_type": "code",
   "execution_count": 11,
   "metadata": {},
   "outputs": [],
   "source": [
    "def gradient_descent(\n",
    "        X,\n",
    "        y,\n",
    "        theta_0,\n",
    "        cost,\n",
    "        cost_derivate,\n",
    "        alpha=0.01,\n",
    "        treshold=0.0001,\n",
    "        max_iter=100000):\n",
    "    theta, i = theta_0, 0\n",
    "    costs = []\n",
    "    gradient_norms = []\n",
    "    while np.linalg.norm(cost_derivate(X, y, theta)) > treshold and i < max_iter:\n",
    "        theta -= alpha * cost_derivate(X, y, theta)\n",
    "        i += 1\n",
    "        costs.append(cost(X, y, theta))\n",
    "        gradient_norms.append(cost_derivate(X, y, theta))\n",
    "    return theta, costs, gradient_norms"
   ]
  },
  {
   "cell_type": "markdown",
   "metadata": {},
   "source": [
    "## Costo Lineal"
   ]
  },
  {
   "cell_type": "code",
   "execution_count": 12,
   "metadata": {},
   "outputs": [],
   "source": [
    "def linear_cost(X, y, theta):\n",
    "    m, _ = X.shape\n",
    "    h = np.matmul(X, theta)\n",
    "    sq = (y - h) ** 2\n",
    "    return sq.sum() / (2 * m)"
   ]
  },
  {
   "cell_type": "markdown",
   "metadata": {},
   "source": [
    "## Derivada del Costo Lineal"
   ]
  },
  {
   "cell_type": "code",
   "execution_count": 13,
   "metadata": {},
   "outputs": [],
   "source": [
    "def linear_cost_derivate(X, y, theta):\n",
    "    h = np.matmul(X, theta)\n",
    "    m, _ = X.shape\n",
    "    return np.matmul((h - y).T, X).T / m"
   ]
  },
  {
   "cell_type": "markdown",
   "metadata": {},
   "source": [
    "## Seleccion de datos"
   ]
  },
  {
   "cell_type": "markdown",
   "metadata": {},
   "source": [
    "Los datos se dividiran 60% para train, 20% para test y 20% para crossvalidation"
   ]
  },
  {
   "cell_type": "code",
   "execution_count": 14,
   "metadata": {},
   "outputs": [],
   "source": [
    "trainingN = 0.6\n",
    "cvN = 0.2\n",
    "random.shuffle(dataI)\n",
    "a = int(len(dataI)*trainingN)\n",
    "b = int(len(dataI)*cvN)\n",
    "\n",
    "training = dataI[:a]\n",
    "cv = dataI[a:a+b]\n",
    "test = dataI[a+b:]\n",
    "\n",
    "training_y = training[:len(data), -1].reshape(-1,1)\n",
    "test_y = test[:len(data), -1].reshape(-1,1)"
   ]
  },
  {
   "cell_type": "markdown",
   "metadata": {},
   "source": [
    "### Primero se usara como X la variable de GRE Score"
   ]
  },
  {
   "cell_type": "code",
   "execution_count": 38,
   "metadata": {},
   "outputs": [],
   "source": [
    "x = (training[:,:1].reshape(len(training[:,:1]),))\n",
    "Y = training[:,3:4]"
   ]
  },
  {
   "cell_type": "code",
   "execution_count": 39,
   "metadata": {},
   "outputs": [],
   "source": [
    "X = np.vstack(\n",
    "    (\n",
    "        np.ones(x.size),\n",
    "        x,\n",
    "        (x **2)/100\n",
    "    )\n",
    ").T\n",
    "dataset_2 = (X, Y)"
   ]
  },
  {
   "cell_type": "code",
   "execution_count": 36,
   "metadata": {},
   "outputs": [
    {
     "name": "stdout",
     "output_type": "stream",
     "text": [
      "THETA: [[ 0.00893016]\n",
      " [-0.0064289 ]\n",
      " [ 0.00271189]]\n"
     ]
    },
    {
     "data": {
      "image/png": "[encoded data removed]",
      "text/plain": [
       "<Figure size 432x288 with 1 Axes>"
      ]
     },
     "metadata": {
      "needs_background": "light"
     },
     "output_type": "display_data"
    }
   ],
   "source": [
    "(X, y) = dataset_2\n",
    "m, n = X.shape\n",
    "\n",
    "theta_0 = np.random.rand(n, 1)\n",
    "theta, costs, gradient_norms = gradient_descent(\n",
    "    X,\n",
    "    y,\n",
    "    theta_0,\n",
    "    linear_cost,\n",
    "    linear_cost_derivate,\n",
    "    alpha=0.000001,\n",
    "    treshold=0.001,\n",
    "    max_iter=100000\n",
    ")\n",
    "\n",
    "print ('THETA:', theta)\n",
    "\n",
    "# Plot training data\n",
    "plt.scatter(X[:, 1], y)\n",
    "\n",
    "plt.plot(X[:, 1], np.matmul(X, theta), color='red')\n",
    "\n",
    "# plt.plot(np.arange(len(costs)), costs)\n",
    "\n",
    "plt.show()\n"
   ]
  },
  {
   "cell_type": "markdown",
   "metadata": {},
   "source": [
    "### Se usarà como X la variable de TOEFL Score"
   ]
  },
  {
   "cell_type": "code",
   "execution_count": 18,
   "metadata": {},
   "outputs": [],
   "source": [
    "x = (training[:,1:2].reshape(len(training[:,1:2]),))\n",
    "Y = training[:,3:4]"
   ]
  },
  {
   "cell_type": "code",
   "execution_count": 19,
   "metadata": {},
   "outputs": [],
   "source": [
    "X = np.vstack(\n",
    "    (\n",
    "        np.ones(x.size),\n",
    "        x,\n",
    "        (x **2)/100\n",
    "    )\n",
    ").T\n",
    "dataset_2 = (X, Y)"
   ]
  },
  {
   "cell_type": "code",
   "execution_count": 20,
   "metadata": {},
   "outputs": [
    {
     "name": "stdout",
     "output_type": "stream",
     "text": [
      "THETA: [[ 0.62766545]\n",
      " [-0.01975642]\n",
      " [ 0.01896482]]\n"
     ]
    },
    {
     "data": {
      "image/png": "[encoded data removed]",
      "text/plain": [
       "<Figure size 432x288 with 1 Axes>"
      ]
     },
     "metadata": {
      "needs_background": "light"
     },
     "output_type": "display_data"
    }
   ],
   "source": [
    "(X, y) = dataset_2\n",
    "m, n = X.shape\n",
    "\n",
    "theta_0 = np.random.rand(n, 1)\n",
    "theta, costs, gradient_norms = gradient_descent(\n",
    "    X,\n",
    "    y,\n",
    "    theta_0,\n",
    "    linear_cost,\n",
    "    linear_cost_derivate,\n",
    "    alpha=0.000001,\n",
    "    treshold=0.001,\n",
    "    max_iter=1000000\n",
    ")\n",
    "\n",
    "print ('THETA:', theta)\n",
    "\n",
    "# Plot training data\n",
    "\n",
    "plt.scatter(X[:, 1], y)\n",
    "\n",
    "plt.plot(X[:, 1], np.matmul(X, theta), color='red')\n",
    "\n",
    "# plt.plot(np.arange(len(costs)), costs)\n",
    "\n",
    "plt.show()\n"
   ]
  },
  {
   "cell_type": "markdown",
   "metadata": {},
   "source": [
    "### Se usarà como X la variable de CGPA"
   ]
  },
  {
   "cell_type": "code",
   "execution_count": 21,
   "metadata": {},
   "outputs": [],
   "source": [
    "x = (training[:,2:3].reshape(len(training[:,2:3]),))\n",
    "Y = training[:,3:4]"
   ]
  },
  {
   "cell_type": "code",
   "execution_count": 22,
   "metadata": {},
   "outputs": [],
   "source": [
    "X = np.vstack(\n",
    "    (\n",
    "        np.ones(x.size),\n",
    "        x,\n",
    "        (x **2)/100\n",
    "    )\n",
    ").T\n",
    "dataset_2 = (X, Y)"
   ]
  },
  {
   "cell_type": "code",
   "execution_count": 23,
   "metadata": {},
   "outputs": [
    {
     "name": "stdout",
     "output_type": "stream",
     "text": [
      "THETA: [[0.06863986]\n",
      " [0.01412575]\n",
      " [0.72176591]]\n"
     ]
    },
    {
     "data": {
      "image/png": "[encoded data removed]",
      "text/plain": [
       "<Figure size 432x288 with 1 Axes>"
      ]
     },
     "metadata": {
      "needs_background": "light"
     },
     "output_type": "display_data"
    }
   ],
   "source": [
    "(X, y) = dataset_2\n",
    "m, n = X.shape\n",
    "\n",
    "theta_0 = np.random.rand(n, 1)\n",
    "theta, costs, gradient_norms = gradient_descent(\n",
    "    X,\n",
    "    y,\n",
    "    theta_0,\n",
    "    linear_cost,\n",
    "    linear_cost_derivate,\n",
    "    alpha=0.000001,\n",
    "    treshold=0.001,\n",
    "    max_iter=100000\n",
    ")\n",
    "\n",
    "print ('THETA:', theta)\n",
    "\n",
    "# Plot training data\n",
    "\n",
    "plt.scatter(X[:, 1], y)\n",
    "\n",
    "plt.plot(X[:, 1], np.matmul(X, theta), color='red')\n",
    "\n",
    "# plt.plot(np.arange(len(costs)), costs)\n",
    "\n",
    "plt.show()\n"
   ]
  },
  {
   "cell_type": "markdown",
   "metadata": {},
   "source": [
    "# Funciones regularizadas"
   ]
  },
  {
   "cell_type": "markdown",
   "metadata": {},
   "source": [
    "## Descenso del gradiente regularizado"
   ]
  },
  {
   "cell_type": "code",
   "execution_count": 24,
   "metadata": {},
   "outputs": [],
   "source": [
    "def gradient_descent_grad(\n",
    "        X,\n",
    "        y,\n",
    "        theta_0,\n",
    "        cost,\n",
    "        cost_derivate,\n",
    "        alpha=0.01,\n",
    "        treshold=0.0001,\n",
    "        lam=1,\n",
    "        max_iter=10000):\n",
    "    theta, i = theta_0, 0\n",
    "    costs = []\n",
    "    gradient_norms = []\n",
    "    while np.linalg.norm(cost_derivate(X, y, theta, lam)) > treshold and i < max_iter:\n",
    "        theta -= alpha * cost_derivate(X, y, theta, lam)\n",
    "        i += 1\n",
    "        costs.append(cost(X, y, theta,lam))\n",
    "        gradient_norms.append(cost_derivate(X, y, theta, lam))\n",
    "    return theta, costs, gradient_norms"
   ]
  },
  {
   "cell_type": "markdown",
   "metadata": {},
   "source": [
    "## Costo Lineal Regularizado"
   ]
  },
  {
   "cell_type": "code",
   "execution_count": 25,
   "metadata": {},
   "outputs": [],
   "source": [
    "def linear_cost_grad(X, y, theta, lam):\n",
    "    m, _ = X.shape\n",
    "    h = np.matmul(X, theta)\n",
    "    sq = (y - h) ** 2\n",
    "    return sq.sum() + (lam*(theta**2)).sum()/ (2 * m)"
   ]
  },
  {
   "cell_type": "markdown",
   "metadata": {},
   "source": [
    "## Derivada de Costo Lineal Regularizado"
   ]
  },
  {
   "cell_type": "code",
   "execution_count": 26,
   "metadata": {},
   "outputs": [],
   "source": [
    "def linear_cost_derivate_grad(X, y, theta, lam):\n",
    "    h = np.matmul(X, theta)\n",
    "    m, _ = X.shape\n",
    "    return np.matmul((h - y).T, X).T + (lam*theta).sum()/ m"
   ]
  },
  {
   "cell_type": "markdown",
   "metadata": {},
   "source": [
    "### Regresion Lineal Regularizado con GRE Score"
   ]
  },
  {
   "cell_type": "code",
   "execution_count": 40,
   "metadata": {},
   "outputs": [
    {
     "name": "stdout",
     "output_type": "stream",
     "text": [
      "THETA: [[ 0.51945268]\n",
      " [-0.00889155]\n",
      " [ 0.0029826 ]]\n"
     ]
    },
    {
     "data": {
      "image/png": "[encoded data removed]",
      "text/plain": [
       "<Figure size 432x288 with 1 Axes>"
      ]
     },
     "metadata": {
      "needs_background": "light"
     },
     "output_type": "display_data"
    }
   ],
   "source": [
    "(X, y) = dataset_2\n",
    "m, n = X.shape\n",
    "\n",
    "theta_0 = np.random.rand(n, 1)\n",
    "theta, costs, gradient_norms = gradient_descent_grad(\n",
    "    X,\n",
    "    y,\n",
    "    theta_0,\n",
    "    linear_cost_grad,\n",
    "    linear_cost_derivate_grad,\n",
    "    alpha=0.000000001,\n",
    "    treshold=0.001,\n",
    "    lam=15,\n",
    "    max_iter=200000\n",
    ")\n",
    "\n",
    "print ('THETA:', theta)\n",
    "\n",
    "# Plot training data\n",
    "plt.scatter(X[:, 2], y)\n",
    "\n",
    "plt.plot(X[:, 2], np.matmul(X, theta), color='red')\n",
    "\n",
    "# plt.plot(np.arange(len(costs)), costs)\n",
    "\n",
    "plt.show()\n"
   ]
  },
  {
   "cell_type": "markdown",
   "metadata": {},
   "source": [
    "# Test Gre Score"
   ]
  },
  {
   "cell_type": "markdown",
   "metadata": {},
   "source": [
    "Para esta seccion se usaran los datos que quedaron en el test, para probar que el entrenamiento fue efectivo o no. Con una variable Theta previamente sacada es que se hara el test"
   ]
  },
  {
   "cell_type": "code",
   "execution_count": 41,
   "metadata": {},
   "outputs": [
    {
     "name": "stdout",
     "output_type": "stream",
     "text": [
      "THETA: [[ 0.51945268]\n",
      " [-0.00889155]\n",
      " [ 0.0029826 ]]\n"
     ]
    }
   ],
   "source": [
    "print ('THETA:', theta)"
   ]
  },
  {
   "cell_type": "code",
   "execution_count": 46,
   "metadata": {},
   "outputs": [],
   "source": [
    "x = (test[:,:1].reshape(len(test[:,:1]),))\n",
    "test_y = test[:len(data), -1].reshape(-1,1)"
   ]
  },
  {
   "cell_type": "code",
   "execution_count": 47,
   "metadata": {},
   "outputs": [],
   "source": [
    "X = np.vstack(\n",
    "    (\n",
    "        np.ones(x.size),\n",
    "        x,\n",
    "        (x **2)/100\n",
    "    )\n",
    ").T\n",
    "dataset_2 = (X, Y)"
   ]
  },
  {
   "cell_type": "code",
   "execution_count": 51,
   "metadata": {},
   "outputs": [
    {
     "data": {
      "image/png": "[encoded data removed]",
      "text/plain": [
       "<Figure size 432x288 with 1 Axes>"
      ]
     },
     "metadata": {
      "needs_background": "light"
     },
     "output_type": "display_data"
    }
   ],
   "source": [
    "plt.scatter(X[:, 2], test_y)\n",
    "plt.scatter(X[:, 2], np.matmul(X, theta), color='red')\n",
    "plt.title(\"Prediccion de Gre Score\")\n",
    "plt.show()"
   ]
  },
  {
   "cell_type": "markdown",
   "metadata": {},
   "source": [
    "El modelo se puede sigue teniendo una forma muy lineal por lo que se puede concluir que tiene un Problema de BIas ya que quedo muy pobre para lo que se esperaba. Se recomienda hacerle mas transformaciones para poder ajustarlo mas a una prediccion con menos errores."
   ]
  }
 ],
 "metadata": {
  "kernelspec": {
   "display_name": "Python 3",
   "language": "python",
   "name": "python3"
  },
  "language_info": {
   "codemirror_mode": {
    "name": "ipython",
    "version": 3
   },
   "file_extension": ".py",
   "mimetype": "text/x-python",
   "name": "python",
   "nbconvert_exporter": "python",
   "pygments_lexer": "ipython3",
   "version": "3.6.9"
  }
 },
 "nbformat": 4,
 "nbformat_minor": 4
}
